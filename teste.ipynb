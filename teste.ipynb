{
 "cells": [
  {
   "cell_type": "code",
   "execution_count": 11,
   "metadata": {},
   "outputs": [
    {
     "name": "stderr",
     "output_type": "stream",
     "text": [
      "/var/folders/gw/xr5sqg396rq70gpwj27wt2_80000gn/T/ipykernel_66571/3875270187.py:30: DeprecationWarning: DataFrameGroupBy.apply operated on the grouping columns. This behavior is deprecated, and in a future version of pandas the grouping columns will be excluded from the operation. Either pass `include_groups=False` to exclude the groupings or explicitly select the grouping columns after groupby to silence this warning.\n",
      "  adjusted_df = filtered_df.groupby('firstname').apply(adjust_distances).reset_index(drop=True)\n"
     ]
    }
   ],
   "source": [
    "import pandas as pd\n",
    "\n",
    "# Carregar o arquivo CSV em um DataFrame, especificando os tipos de dados para evitar conflitos\n",
    "dtype_dict = {\n",
    "    'firstname': 'object',\n",
    "    'lastname': 'object',\n",
    "    'name': 'object',\n",
    "    'distance': 'float',\n",
    "    'moving_time': 'float',\n",
    "    'elapsed_time': 'float',\n",
    "    'total_elevation_gain': 'float',\n",
    "    'type': 'object',\n",
    "    'sport_type': 'object',\n",
    "    'data_atual': 'object'\n",
    "}\n",
    "\n",
    "df = pd.read_csv('atividades_unicas.csv', dtype=dtype_dict)\n",
    "df['distance_km'] = round(df['distance'] / 1000, 2)\n",
    "# Filtrar os dados pelo data_atual\n",
    "filtered_df = df[df['data_atual'] == '2025-01-09']\n",
    "\n",
    "# Função para ajustar os valores de distance\n",
    "def adjust_distances(group):\n",
    "    total_distance = group['distance_km'].sum()\n",
    "    if total_distance > 8:\n",
    "        group['distance_km'] = group['distance_km'] * (8 / total_distance)\n",
    "    return group\n",
    "\n",
    "# Aplicar a função de ajuste ao DataFrame agrupado por firstname\n",
    "adjusted_df = filtered_df.groupby('firstname').apply(adjust_distances).reset_index(drop=True)\n",
    "adjusted_df\n",
    "# Atualizar o DataFrame original com os novos valores de distance\n",
    "for index, row in adjusted_df.iterrows():\n",
    "    df_idx = df[(df['data_atual'] == '2025-01-09') & (df['firstname'] == row['firstname']) & (df['lastname'] == row['lastname'])].index\n",
    "    df.loc[df_idx, 'distance_km'] = row['distance_km']\n",
    "\n",
    "# Exibir o DataFrame atualizado\n",
    "\n",
    "\n",
    "\n",
    "\n"
   ]
  },
  {
   "cell_type": "code",
   "execution_count": null,
   "metadata": {},
   "outputs": [],
   "source": []
  }
 ],
 "metadata": {
  "kernelspec": {
   "display_name": "strava-api-main-QEw9fYnj",
   "language": "python",
   "name": "python3"
  },
  "language_info": {
   "codemirror_mode": {
    "name": "ipython",
    "version": 3
   },
   "file_extension": ".py",
   "mimetype": "text/x-python",
   "name": "python",
   "nbconvert_exporter": "python",
   "pygments_lexer": "ipython3",
   "version": "3.13.0"
  }
 },
 "nbformat": 4,
 "nbformat_minor": 2
}
