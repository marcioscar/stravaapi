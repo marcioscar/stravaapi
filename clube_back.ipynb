{
 "cells": [
  {
   "cell_type": "code",
   "execution_count": 1,
   "metadata": {},
   "outputs": [],
   "source": [
    "import pandas as pd\n",
    "import streamlit as st\n"
   ]
  },
  {
   "cell_type": "code",
   "execution_count": 39,
   "metadata": {},
   "outputs": [],
   "source": [
    "df_strava = pd.read_csv('atividades_unicas.csv')\n",
    "df_strava['athlete.fullname'] = df_strava['firstname'] + ' ' + df_strava['lastname']\n",
    "df_strava['moving_time_minutes'] = round(df_strava['moving_time']/60, 2)"
   ]
  },
  {
   "cell_type": "code",
   "execution_count": null,
   "metadata": {},
   "outputs": [],
   "source": [
    "cols = ['athlete.fullname','name', 'type', 'distance',   \n",
    "         'data_atual', 'distance_km', 'pace_real','moving_time_minutes'\n",
    "       ]\n",
    "df_strava['moving_time_minutes'] = round(df_strava['moving_time']/60, 2)\n",
    "\n",
    "df_strava['distance_km'] = round(df_strava['distance'] / 1000, 2)\n",
    "\n",
    "df_strava['pace'] = df_strava['moving_time_minutes'] / df_strava['distance_km']\n",
    "\n",
    "df_strava['avg_speed_kmh'] = round(60/df_strava['pace'], 2)\n",
    "\n",
    "\n",
    "def kmh_to_min_km(speed_kmh):\n",
    "    if speed_kmh > 0:  # Evitar divisão por zero\n",
    "        pace = 60 / speed_kmh\n",
    "        minutes = int(pace)\n",
    "        seconds = int((pace - minutes) * 60)\n",
    "        return f\"{minutes}:{seconds:02d} min/km\"\n",
    "    else:\n",
    "        return None  # Retorna None para velocidades inválidas\n",
    "\n",
    "df_strava['avg_speed_kmh'] = pd.to_numeric(df_strava['avg_speed_kmh'], errors='coerce')\n",
    "df_strava['pace_real'] = df_strava['avg_speed_kmh'].apply(kmh_to_min_km)\n",
    "\n",
    "corridas = df_strava[cols]\n",
    "runs = corridas.loc[corridas['type'] == 'Run' ].sort_values(by='athlete.fullname')\n",
    "runs\n",
    "\n",
    "# runs.drop_duplicates(subset=[\n",
    "#         'athlete.fullname', 'name', 'distance', 'moving_time',\n",
    "#         'elapsed_time', 'type', 'sport_type'\n",
    "#     ])\n",
    "# runs.drop_duplicates()\n"
   ]
  },
  {
   "cell_type": "code",
   "execution_count": null,
   "metadata": {},
   "outputs": [],
   "source": []
  }
 ],
 "metadata": {
  "kernelspec": {
   "display_name": "strava-api-main-QEw9fYnj",
   "language": "python",
   "name": "python3"
  },
  "language_info": {
   "codemirror_mode": {
    "name": "ipython",
    "version": 3
   },
   "file_extension": ".py",
   "mimetype": "text/x-python",
   "name": "python",
   "nbconvert_exporter": "python",
   "pygments_lexer": "ipython3",
   "version": "3.13.0"
  }
 },
 "nbformat": 4,
 "nbformat_minor": 2
}
